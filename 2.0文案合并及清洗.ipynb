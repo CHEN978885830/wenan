{
 "cells": [
  {
   "cell_type": "code",
   "execution_count": 17,
   "metadata": {},
   "outputs": [],
   "source": [
    "\"\"\"加载配置\"\"\"\n",
    "\n",
    "import os\n",
    "import pandas as pd\n",
    "import docx2txt\n",
    "import re\n",
    "\n",
    "keywords = [\n",
    "    \"麦吉丽|雅漾|名创|娇韵诗|雅诗兰黛|欧莱雅\",\n",
    "]\n",
    "# 指定包含.docx文件的文件夹路径\n",
    "folder_path = r\"C:\\Users\\chen\\Desktop\\中转文案\"\n",
    "to_path = r\"C:\\Users\\chen\\Desktop\\文案合集.xlsx\""
   ]
  },
  {
   "cell_type": "code",
   "execution_count": 18,
   "metadata": {},
   "outputs": [],
   "source": [
    "\"\"\"读取文件表格\"\"\"\n",
    "\n",
    "# 创建一个空的DataFrame来存储文档内容\n",
    "df = pd.DataFrame(columns=[\"视频名称\", \"Text\"])\n",
    "\n",
    "# 遍历文件夹中的所有.docx文件\n",
    "for filename in os.listdir(folder_path):\n",
    "    if filename.endswith(\".docx\"):\n",
    "        file_path = os.path.join(folder_path, filename)\n",
    "        # 使用docx2txt库提取文本内容\n",
    "        text = docx2txt.process(file_path)\n",
    "        # 将文件名和文本内容添加到DataFrame\n",
    "        df = pd.concat(\n",
    "            [df, pd.DataFrame({\"视频名称\": [filename], \"Text\": [text]})],\n",
    "            ignore_index=True,\n",
    "        )"
   ]
  },
  {
   "cell_type": "code",
   "execution_count": 19,
   "metadata": {},
   "outputs": [],
   "source": [
    "\"\"\"数据清洗及导出\"\"\"\n",
    "\n",
    "# 清洗视频名称\n",
    "df[\"视频名称\"] = df[\"视频名称\"].str.replace(r\"_原文\", \"\", regex=True)\n",
    "\n",
    "\n",
    "# 处理文案分割\n",
    "def process_text(text):\n",
    "    sentences = text.split(\"。\")\n",
    "    formatted_text = \"\\n\\n\".join([f\"{sentence}。\" for sentence in sentences])\n",
    "    processed_text = (\n",
    "        formatted_text\n",
    "        if len(formatted_text.split(\"\\n\")[-1]) > 10\n",
    "        else \"\\n\".join(formatted_text.split(\"\\n\")[:-1])\n",
    "    )\n",
    "    return processed_text\n",
    "\n",
    "\n",
    "df[\"Text\"] = df[\"Text\"].apply(process_text)\n",
    "\n",
    "# 检查是否合规\n",
    "df[\"审查\"] = \"合规\"\n",
    "pattern = \"|\".join(keywords)\n",
    "min_char_count = 60\n",
    "\n",
    "\n",
    "def check_and_mark(text):\n",
    "    if len(text) > min_char_count and not re.search(pattern, text):\n",
    "        return \"合规\"\n",
    "    else:\n",
    "        return \"不合规\"\n",
    "\n",
    "\n",
    "df[\"审查\"] = df[\"Text\"].apply(check_and_mark)\n",
    "df[\"id\"] = df[\"视频名称\"].str.split(\"_\").str[0]\n",
    "df[\"user\"] = df[\"视频名称\"].str.split(\"_\").str[1]\n",
    "df.insert(0, \"id\", df.pop(\"id\"))\n",
    "df.insert(1, \"user\", df.pop(\"user\"))\n",
    "\n",
    "# 导出明细表格\n",
    "df.to_excel(to_path, index=False)"
   ]
  }
 ],
 "metadata": {
  "kernelspec": {
   "display_name": "Python 3",
   "language": "python",
   "name": "python3"
  },
  "language_info": {
   "codemirror_mode": {
    "name": "ipython",
    "version": 3
   },
   "file_extension": ".py",
   "mimetype": "text/x-python",
   "name": "python",
   "nbconvert_exporter": "python",
   "pygments_lexer": "ipython3",
   "version": "3.12.0"
  },
  "orig_nbformat": 4
 },
 "nbformat": 4,
 "nbformat_minor": 2
}
